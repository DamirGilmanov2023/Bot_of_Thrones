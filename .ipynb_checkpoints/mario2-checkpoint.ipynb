{
 "cells": [
  {
   "cell_type": "code",
   "execution_count": 8,
   "id": "5b7bab40",
   "metadata": {},
   "outputs": [],
   "source": [
    "import cv2 as cv\n",
    "import numpy as np\n",
    "from matplotlib import pyplot as plt"
   ]
  },
  {
   "cell_type": "code",
   "execution_count": 1,
   "id": "c807ee05",
   "metadata": {},
   "outputs": [
    {
     "name": "stdout",
     "output_type": "stream",
     "text": [
      "(array([ 82,  82,  82,  82,  82, 114, 114, 114, 114, 114, 114, 114, 146,\n",
      "       146, 146, 146, 146, 146, 146]), array([ 73,  87, 101, 115, 129,  59,  73,  87, 101, 115, 129, 143,  59,\n",
      "        73,  87, 101, 115, 129, 143]))\n"
     ]
    },
    {
     "data": {
      "text/plain": [
       "True"
      ]
     },
     "execution_count": 1,
     "metadata": {},
     "output_type": "execute_result"
    }
   ],
   "source": [
    "import cv2 as cv\n",
    "import numpy as np\n",
    "from matplotlib import pyplot as plt\n",
    "img_rgb = cv.imread('mario.jpg')\n",
    "img_gray = cv.cvtColor(img_rgb, cv.COLOR_BGR2GRAY)\n",
    "template = cv.imread('coin.jpg',0)\n",
    "w, h = template.shape[::-1]\n",
    "res = cv.matchTemplate(img_gray,template,cv.TM_CCOEFF_NORMED)\n",
    "res\n",
    "threshold = 0.8\n",
    "loc = np.where( res >= threshold)\n",
    "print(loc)\n",
    "for pt in zip(*loc[::-1]):\n",
    "    cv.rectangle(img_rgb, pt, (pt[0] + w, pt[1] + h), (0,0,255), 2)\n",
    "cv.imwrite('res.png',img_rgb)"
   ]
  },
  {
   "cell_type": "code",
   "execution_count": 19,
   "id": "7753fcfb",
   "metadata": {},
   "outputs": [
    {
     "name": "stdout",
     "output_type": "stream",
     "text": [
      "(array([], dtype=int64), array([], dtype=int64))\n",
      "0\n"
     ]
    },
    {
     "data": {
      "text/plain": [
       "True"
      ]
     },
     "execution_count": 19,
     "metadata": {},
     "output_type": "execute_result"
    }
   ],
   "source": [
    "img_rgb = cv.imread('2.png')\n",
    "img_gray = cv.cvtColor(img_rgb, cv.COLOR_BGR2GRAY)\n",
    "template = cv.imread('3.png',0)\n",
    "w, h = template.shape[::-1]\n",
    "res = cv.matchTemplate(img_gray,template,cv.TM_CCOEFF_NORMED)\n",
    "res\n",
    "threshold = 0.8\n",
    "loc = np.where( res >= threshold)\n",
    "print(loc)\n",
    "print(np.size(loc[0]))\n",
    "for pt in zip(*loc[::-1]):\n",
    "    cv.rectangle(img_rgb, pt, (pt[0] + w, pt[1] + h), (0,0,255), 2)\n",
    "cv.imwrite('res23.png',img_rgb)"
   ]
  },
  {
   "cell_type": "code",
   "execution_count": 27,
   "id": "fe4b33c6",
   "metadata": {},
   "outputs": [],
   "source": [
    "from selenium import webdriver\n",
    "from selenium.webdriver.chrome.options import Options\n",
    "from selenium.webdriver.common.keys import Keys\n",
    "from selenium.webdriver.common.by import By\n",
    "from selenium.webdriver.common.actions.action_builder import ActionBuilder\n",
    "from selenium.webdriver.common.action_chains import ActionChains\n",
    "import time"
   ]
  },
  {
   "cell_type": "code",
   "execution_count": 18,
   "id": "554cfa26",
   "metadata": {},
   "outputs": [
    {
     "name": "stderr",
     "output_type": "stream",
     "text": [
      "C:\\Users\\_DDB4~1\\AppData\\Local\\Temp/ipykernel_9036/749773670.py:1: DeprecationWarning: executable_path has been deprecated, please pass in a Service object\n",
      "  driver = webdriver.Chrome(executable_path=\"chromedriver.exe\")\n"
     ]
    }
   ],
   "source": [
    "driver = webdriver.Chrome(executable_path=\"chromedriver.exe\")\n",
    "driver.set_window_size(1500, 800)"
   ]
  },
  {
   "cell_type": "code",
   "execution_count": 20,
   "id": "121eb4da",
   "metadata": {},
   "outputs": [],
   "source": [
    "driver.get('https://google.com')"
   ]
  },
  {
   "cell_type": "code",
   "execution_count": 22,
   "id": "c3d12ce7",
   "metadata": {},
   "outputs": [
    {
     "data": {
      "text/plain": [
       "True"
      ]
     },
     "execution_count": 22,
     "metadata": {},
     "output_type": "execute_result"
    }
   ],
   "source": [
    "driver.save_screenshot('screenie.png')"
   ]
  },
  {
   "cell_type": "code",
   "execution_count": 53,
   "id": "1b408971",
   "metadata": {},
   "outputs": [
    {
     "name": "stdout",
     "output_type": "stream",
     "text": [
      "(array([ 7,  7,  7,  7,  7,  7,  7,  7,  8,  8,  8,  8,  8,  8,  8,  8,  8,\n",
      "        8,  8,  9,  9,  9,  9,  9,  9,  9,  9,  9,  9,  9, 10, 10, 10],\n",
      "      dtype=int64), array([1364, 1365, 1366, 1367, 1368, 1369, 1370, 1371, 1361, 1362, 1363,\n",
      "       1364, 1365, 1366, 1367, 1368, 1369, 1370, 1371, 1361, 1362, 1363,\n",
      "       1364, 1365, 1366, 1367, 1368, 1369, 1370, 1371, 1369, 1370, 1371],\n",
      "      dtype=int64))\n",
      "33\n"
     ]
    },
    {
     "data": {
      "text/plain": [
       "True"
      ]
     },
     "execution_count": 53,
     "metadata": {},
     "output_type": "execute_result"
    }
   ],
   "source": [
    "img_rgb_resize = cv.imread('screenie.png')\n",
    "size = driver.get_window_size()\n",
    "img_rgb = cv.resize(img_rgb_resize, (size[\"width\"], size[\"height\"]), interpolation= cv.INTER_LINEAR)\n",
    "img_gray = cv.cvtColor(img_rgb, cv.COLOR_BGR2GRAY)\n",
    "template = cv.imread('scree.png',0)\n",
    "w, h = template.shape[::-1]\n",
    "res = cv.matchTemplate(img_gray,template,cv.TM_CCOEFF_NORMED)\n",
    "res\n",
    "threshold = 0.6\n",
    "loc = np.where( res >= threshold)\n",
    "print(loc)\n",
    "print(np.size(loc[0]))\n",
    "for pt in zip(*loc[::-1]):\n",
    "    cv.rectangle(img_rgb, pt, (pt[0] + w, pt[1] + h), (0,0,255), 2)\n",
    "cv.imwrite('output.png',img_rgb)"
   ]
  },
  {
   "cell_type": "code",
   "execution_count": 54,
   "id": "812e262a",
   "metadata": {},
   "outputs": [
    {
     "name": "stdout",
     "output_type": "stream",
     "text": [
      "8.272727272727273\n",
      "1366.7272727272727\n"
     ]
    }
   ],
   "source": [
    "print(np.mean(loc[0]))\n",
    "print(np.mean(loc[1]))"
   ]
  },
  {
   "cell_type": "code",
   "execution_count": 62,
   "id": "b9756137",
   "metadata": {},
   "outputs": [],
   "source": [
    "action = ActionBuilder(driver)\n",
    "action.pointer_action.move_to_location(int(np.mean(loc[1]))+10,int(np.mean(loc[0]))+10)\n",
    "action.perform()\n",
    "\n",
    "ActionChains(driver).click().perform()"
   ]
  },
  {
   "cell_type": "code",
   "execution_count": null,
   "id": "2cda71e5",
   "metadata": {},
   "outputs": [],
   "source": []
  }
 ],
 "metadata": {
  "kernelspec": {
   "display_name": "Python 3 (ipykernel)",
   "language": "python",
   "name": "python3"
  },
  "language_info": {
   "codemirror_mode": {
    "name": "ipython",
    "version": 3
   },
   "file_extension": ".py",
   "mimetype": "text/x-python",
   "name": "python",
   "nbconvert_exporter": "python",
   "pygments_lexer": "ipython3",
   "version": "3.12.3"
  }
 },
 "nbformat": 4,
 "nbformat_minor": 5
}
